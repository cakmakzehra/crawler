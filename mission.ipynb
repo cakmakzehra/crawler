{
 "cells": [
  {
   "cell_type": "code",
   "execution_count": 1,
   "metadata": {},
   "outputs": [],
   "source": [
    "import requests"
   ]
  },
  {
   "cell_type": "code",
   "execution_count": 2,
   "metadata": {},
   "outputs": [],
   "source": [
    "from bs4 import BeautifulSoup"
   ]
  },
  {
   "cell_type": "code",
   "execution_count": 3,
   "metadata": {},
   "outputs": [],
   "source": [
    "import pandas as pd"
   ]
  },
  {
   "cell_type": "code",
   "execution_count": 4,
   "metadata": {},
   "outputs": [],
   "source": [
    "import gspread"
   ]
  },
  {
   "cell_type": "code",
   "execution_count": 5,
   "metadata": {},
   "outputs": [],
   "source": [
    "from oauth2client.service_account import ServiceAccountCredentials"
   ]
  },
  {
   "cell_type": "code",
   "execution_count": 6,
   "metadata": {},
   "outputs": [],
   "source": [
    "urls = pd.read_excel('URLs.xlsx')"
   ]
  },
  {
   "cell_type": "code",
   "execution_count": 7,
   "metadata": {},
   "outputs": [],
   "source": [
    "#urls = urls.head(50)"
   ]
  },
  {
   "cell_type": "code",
   "execution_count": 8,
   "metadata": {},
   "outputs": [],
   "source": [
    "scope = ['https://spreadsheets.google.com/feeds']"
   ]
  },
  {
   "cell_type": "code",
   "execution_count": 9,
   "metadata": {},
   "outputs": [],
   "source": [
    "creds = ServiceAccountCredentials.from_json_keyfile_name('client_secret.json', scope)"
   ]
  },
  {
   "cell_type": "code",
   "execution_count": 10,
   "metadata": {},
   "outputs": [],
   "source": [
    "client = gspread.authorize(creds)"
   ]
  },
  {
   "cell_type": "code",
   "execution_count": 11,
   "metadata": {},
   "outputs": [],
   "source": [
    "spreadsheet_key = '1B9DQNoQt5YJJ4xJa6nZepPR55PJwA6tz5mNVlY4oCho'"
   ]
  },
  {
   "cell_type": "code",
   "execution_count": 12,
   "metadata": {},
   "outputs": [],
   "source": [
    "book = client.open_by_key(spreadsheet_key)"
   ]
  },
  {
   "cell_type": "code",
   "execution_count": 13,
   "metadata": {},
   "outputs": [],
   "source": [
    "worksheet = book.worksheet(\"workspace\")"
   ]
  },
  {
   "cell_type": "code",
   "execution_count": 14,
   "metadata": {},
   "outputs": [],
   "source": [
    "table = worksheet.get_all_values()"
   ]
  },
  {
   "cell_type": "code",
   "execution_count": 15,
   "metadata": {},
   "outputs": [],
   "source": [
    "sheet_index = 1"
   ]
  },
  {
   "cell_type": "code",
   "execution_count": 16,
   "metadata": {},
   "outputs": [],
   "source": [
    "first_row = [\"url\", \"product_name\", \"product_price\", \"sale_price\", \"offer\", \"availability\", \"product_code\"]"
   ]
  },
  {
   "cell_type": "code",
   "execution_count": 17,
   "metadata": {},
   "outputs": [
    {
     "data": {
      "text/plain": [
       "{'spreadsheetId': '1B9DQNoQt5YJJ4xJa6nZepPR55PJwA6tz5mNVlY4oCho',\n",
       " 'updates': {'spreadsheetId': '1B9DQNoQt5YJJ4xJa6nZepPR55PJwA6tz5mNVlY4oCho',\n",
       "  'updatedRange': 'workspace!A1:G1',\n",
       "  'updatedRows': 1,\n",
       "  'updatedColumns': 7,\n",
       "  'updatedCells': 7}}"
      ]
     },
     "execution_count": 17,
     "metadata": {},
     "output_type": "execute_result"
    }
   ],
   "source": [
    "worksheet.insert_row(first_row, 1)"
   ]
  },
  {
   "cell_type": "code",
   "execution_count": 18,
   "metadata": {},
   "outputs": [],
   "source": [
    "sheet_index = sheet_index + 1"
   ]
  },
  {
   "cell_type": "code",
   "execution_count": 19,
   "metadata": {},
   "outputs": [],
   "source": [
    "for index, row in urls.iterrows():\n",
    "    if not row['/']:\n",
    "        continue\n",
    "\n",
    "    if row['/'].endswith('/'):\n",
    "        continue\n",
    "\n",
    "    source = requests.get('https://www.markastok.com' + row['/'])\n",
    "    content = BeautifulSoup(source.content,\"lxml\")\n",
    "\n",
    "    product_name = content.find(\"h1\",attrs={\"class\":\"product-name\"}).text.replace(\"\\n\",\"\") if content.find(\"h1\",attrs={\"class\":\"product-name\"}) else None\n",
    "    product_price = content.find(\"span\",attrs={\"class\":\"currencyPrice discountedPrice\"}).text.replace(\"\\n\",\"\") if content.find(\"span\",attrs={\"class\":\"currencyPrice discountedPrice\"}) else None\n",
    "    sale_price = content.find(\"span\",attrs={\"class\":\"product-price\"}).text if content.find(\"span\",attrs={\"class\":\"product-price\"}) else None\n",
    "    \n",
    "    offer = None\n",
    "    for i in content.select(\"div[class='detay-indirim']>span\"):\n",
    "        offer = i.text\n",
    "\n",
    "    passive_child_count = 0\n",
    "    if content.find(\"div\",attrs={\"class\":\"variantList\"}):\n",
    "        for i in content.find(\"div\",attrs={\"class\":\"variantList\"}).findAll(\"a\",attrs={\"class\":\"passive\"}):\n",
    "            passive_child_count = passive_child_count + 1\n",
    "\n",
    "    child_count = 0\n",
    "    for i in content.select(\".variantList>a.box-border>p\"):\n",
    "        child_count = child_count + 1\n",
    "    \n",
    "    availability = 0\n",
    "    if child_count:\n",
    "        availability = (child_count - passive_child_count) / child_count * 100\n",
    "    \n",
    "    if content.find(\"div\",attrs={\"class\":\"product-feature-content\"}): \n",
    "        for i in content.find(\"div\",attrs={\"class\":\"product-feature-content\"}).find_all(\"div\"):\n",
    "            i.string = \"\"\n",
    "\n",
    "    product_code = content.find(\"div\",attrs={\"class\":\"product-feature-content\"}).text.replace(\"\\n\",\"\") if content.find(\"div\",attrs={\"class\":\"product-feature-content\"}) else None\n",
    "\n",
    "    new_row = [row['/'], product_name, product_price, sale_price, offer, availability, product_code]\n",
    "    \n",
    "    try:\n",
    "        worksheet.insert_row(new_row, sheet_index)\n",
    "        sheet_index = sheet_index + 1\n",
    "    except Exception as e:\n",
    "        print(e)\n",
    "        pass\n"
   ]
  },
  {
   "cell_type": "code",
   "execution_count": null,
   "metadata": {},
   "outputs": [],
   "source": []
  }
 ],
 "metadata": {
  "kernelspec": {
   "display_name": "Python 3",
   "language": "python",
   "name": "python3"
  },
  "language_info": {
   "codemirror_mode": {
    "name": "ipython",
    "version": 3
   },
   "file_extension": ".py",
   "mimetype": "text/x-python",
   "name": "python",
   "nbconvert_exporter": "python",
   "pygments_lexer": "ipython3",
   "version": "3.8.5"
  }
 },
 "nbformat": 4,
 "nbformat_minor": 4
}
